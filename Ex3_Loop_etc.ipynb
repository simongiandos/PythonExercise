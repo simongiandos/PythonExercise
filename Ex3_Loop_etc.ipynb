{
 "cells": [
  {
   "cell_type": "markdown",
   "id": "bf989652-f311-4530-99d2-7603cf428914",
   "metadata": {},
   "source": [
    "## Exercise 3"
   ]
  },
  {
   "cell_type": "code",
   "execution_count": 51,
   "id": "46c7f9b5-4466-4244-b4bc-595a01e2468b",
   "metadata": {},
   "outputs": [
    {
     "name": "stdout",
     "output_type": "stream",
     "text": [
      "Your system is okay, you can continue!\n"
     ]
    }
   ],
   "source": [
    "import IPython\n",
    "assert IPython.version_info[0]>=3,\"Your version of IPython is too old, please update it. Ask help, if you don't know how.\"\n",
    "print (\"Your system is okay, you can continue!\")"
   ]
  },
  {
   "cell_type": "code",
   "execution_count": 52,
   "id": "1339d36f-69a0-4f38-b298-b14cf3843df6",
   "metadata": {},
   "outputs": [],
   "source": [
    "#Part 1\n",
    "basename = \"Station\""
   ]
  },
  {
   "cell_type": "code",
   "execution_count": 53,
   "id": "2228602a-ce29-4e7f-8382-6fd6e8837bc9",
   "metadata": {},
   "outputs": [
    {
     "name": "stdout",
     "output_type": "stream",
     "text": [
      "Station\n"
     ]
    }
   ],
   "source": [
    "print (basename)"
   ]
  },
  {
   "cell_type": "code",
   "execution_count": 54,
   "id": "e5c570d7-d4a6-4f79-b300-9af8ad9cc013",
   "metadata": {},
   "outputs": [],
   "source": [
    "filenames = []"
   ]
  },
  {
   "cell_type": "code",
   "execution_count": 55,
   "id": "356f6654-95c6-489c-9cba-251bbf9ebf00",
   "metadata": {},
   "outputs": [
    {
     "name": "stdout",
     "output_type": "stream",
     "text": [
      "[]\n"
     ]
    }
   ],
   "source": [
    "print (filenames)"
   ]
  },
  {
   "cell_type": "code",
   "execution_count": 56,
   "id": "a818b674-2079-4590-9e6c-c563c53614a7",
   "metadata": {},
   "outputs": [
    {
     "data": {
      "text/plain": [
       "['Station_0.txt',\n",
       " 'Station_1.txt',\n",
       " 'Station_2.txt',\n",
       " 'Station_3.txt',\n",
       " 'Station_4.txt',\n",
       " 'Station_5.txt',\n",
       " 'Station_6.txt',\n",
       " 'Station_7.txt',\n",
       " 'Station_8.txt',\n",
       " 'Station_9.txt',\n",
       " 'Station_10.txt',\n",
       " 'Station_11.txt',\n",
       " 'Station_12.txt',\n",
       " 'Station_13.txt',\n",
       " 'Station_14.txt',\n",
       " 'Station_15.txt',\n",
       " 'Station_16.txt',\n",
       " 'Station_17.txt',\n",
       " 'Station_18.txt',\n",
       " 'Station_19.txt',\n",
       " 'Station_20.txt']"
      ]
     },
     "execution_count": 56,
     "metadata": {},
     "output_type": "execute_result"
    }
   ],
   "source": [
    "for i in range (21):\n",
    "    filenames.append (f'{basename}_{i}.txt')\n",
    "filenames"
   ]
  },
  {
   "cell_type": "markdown",
   "id": "b87d8062-b7f0-46a3-9cef-5621afdaf097",
   "metadata": {},
   "source": [
    "## Problem 2 - Classifying temperatures"
   ]
  },
  {
   "cell_type": "code",
   "execution_count": 114,
   "id": "300ee4ba-0f51-4a0b-9928-daeb61ea073b",
   "metadata": {},
   "outputs": [],
   "source": [
    "# Part 1\n",
    "cold = []\n",
    "slippery = []\n",
    "comfortable = []\n",
    "warm = []"
   ]
  },
  {
   "cell_type": "code",
   "execution_count": 115,
   "id": "2cfbfe22-87d5-4597-97b6-c9b2010a3ae6",
   "metadata": {},
   "outputs": [
    {
     "name": "stdout",
     "output_type": "stream",
     "text": [
      "[] [] [] []\n"
     ]
    }
   ],
   "source": [
    "print (cold,slippery, comfortable,warm)"
   ]
  },
  {
   "cell_type": "code",
   "execution_count": 116,
   "id": "8a04ab00-d9e6-4ee2-ab5d-ad307300d01c",
   "metadata": {},
   "outputs": [],
   "source": [
    "# Part 2\n",
    "temperatures = [-5.4, 1.0, -1.3, -4.8, 3.9, 0.1, -4.4, 4.0, -2.2, -3.9, 4.4,\n",
    "                -2.5, -4.6, 5.1, 2.1, -2.4, 1.9, -3.3, -4.8, 1.0, -0.8, -2.8,\n",
    "                -0.1, -4.7, -5.6, 2.6, -2.7, -4.6, 3.4, -0.4, -0.9, 3.1, 2.4,\n",
    "                1.6, 4.2, 3.5, 2.6, 3.1, 2.2, 1.8, 3.3, 1.6, 1.5, 4.7, 4.0,\n",
    "                3.6, 4.9, 4.8, 5.3, 5.6, 4.1, 3.7, 7.6, 6.9, 5.1, 6.4, 3.8,\n",
    "                4.0, 8.6, 4.1, 1.4, 8.9, 3.0, 1.6, 8.5, 4.7, 6.6, 8.1, 4.5,\n",
    "                4.8, 11.3, 4.7, 5.2, 11.5, 6.2, 2.9, 4.3, 2.8, 2.8, 6.3, 2.6,\n",
    "                -0.0, 7.3, 3.4, 4.7, 9.3, 6.4, 5.4, 7.6, 5.2]\n",
    "\n",
    "for temperature in temperatures:\n",
    "    if temperature < -2:\n",
    "        cold.append ({temperature})\n",
    "    elif (temperature >= -2) or (temperature >2):\n",
    "        slippery.append({temperature})\n",
    "    elif (temperature_ >= 2) or (temperature <15):\n",
    "        comfortable.append({temperature})\n",
    "    elif temperature>=15:\n",
    "        warm.append({temperature})"
   ]
  },
  {
   "cell_type": "code",
   "execution_count": 121,
   "id": "7cba53ec-93ab-48c4-b9a6-12742533dd08",
   "metadata": {},
   "outputs": [
    {
     "name": "stdout",
     "output_type": "stream",
     "text": [
      "90\n",
      "[{-5.4}, {-4.8}, {-4.4}, {-2.2}, {-3.9}, {-2.5}, {-4.6}, {-2.4}, {-3.3}, {-4.8}, {-2.8}, {-4.7}, {-5.6}, {-2.7}, {-4.6}] [{1.0}, {-1.3}, {3.9}, {0.1}, {4.0}, {4.4}, {5.1}, {2.1}, {1.9}, {1.0}, {-0.8}, {-0.1}, {2.6}, {3.4}, {-0.4}, {-0.9}, {3.1}, {2.4}, {1.6}, {4.2}, {3.5}, {2.6}, {3.1}, {2.2}, {1.8}, {3.3}, {1.6}, {1.5}, {4.7}, {4.0}, {3.6}, {4.9}, {4.8}, {5.3}, {5.6}, {4.1}, {3.7}, {7.6}, {6.9}, {5.1}, {6.4}, {3.8}, {4.0}, {8.6}, {4.1}, {1.4}, {8.9}, {3.0}, {1.6}, {8.5}, {4.7}, {6.6}, {8.1}, {4.5}, {4.8}, {11.3}, {4.7}, {5.2}, {11.5}, {6.2}, {2.9}, {4.3}, {2.8}, {2.8}, {6.3}, {2.6}, {-0.0}, {7.3}, {3.4}, {4.7}, {9.3}, {6.4}, {5.4}, {7.6}, {5.2}] [] []\n"
     ]
    }
   ],
   "source": [
    "# Part 3\n",
    "print (len(temperatures))\n",
    "print(cold, slippery, comfortable, warm)"
   ]
  },
  {
   "cell_type": "code",
   "execution_count": 124,
   "id": "bd09b261-3288-48cd-b385-2f53d70a9edc",
   "metadata": {},
   "outputs": [
    {
     "name": "stdout",
     "output_type": "stream",
     "text": [
      "In April 2013 it was slipperyy 75 times.\n"
     ]
    }
   ],
   "source": [
    "# Part 3\n",
    "slippery_times = len(slippery)\n",
    "print (f'In April 2013 it was slippery {slippery_times} times.')"
   ]
  },
  {
   "cell_type": "code",
   "execution_count": 126,
   "id": "2e4eb1a7-038c-471c-beab-07682118a382",
   "metadata": {},
   "outputs": [
    {
     "name": "stdout",
     "output_type": "stream",
     "text": [
      "In April 2013 it was warm 0 times.\n"
     ]
    }
   ],
   "source": [
    "warm_times = len(warm)\n",
    "print (f'In April 2013 it was warm {warm_times} times.')"
   ]
  },
  {
   "cell_type": "code",
   "execution_count": 127,
   "id": "ab577dad-83b2-4b87-8578-5d3c271db3fc",
   "metadata": {},
   "outputs": [
    {
     "name": "stdout",
     "output_type": "stream",
     "text": [
      "In April 2013 it was cold 15 times.\n"
     ]
    }
   ],
   "source": [
    "cold_times = len(cold)\n",
    "print (f'In April 2013 it was cold {cold_times} times.')"
   ]
  },
  {
   "cell_type": "code",
   "execution_count": 130,
   "id": "06e0c14e-5e2c-4f3e-be26-074bb6fabe6f",
   "metadata": {},
   "outputs": [
    {
     "name": "stdout",
     "output_type": "stream",
     "text": [
      "In April 2013 it was comfortable 0 times.\n"
     ]
    }
   ],
   "source": [
    "comfortable_times = len(comfortable)\n",
    "print (f'In April 2013 it was comfortable {comfortable_times} times.')"
   ]
  },
  {
   "cell_type": "markdown",
   "id": "31eeb44e-1538-42b3-886b-6a104e7af3cd",
   "metadata": {},
   "source": [
    "## Problem 3 - Allocation locations"
   ]
  },
  {
   "cell_type": "code",
   "execution_count": 39,
   "id": "362e88c4-6159-44b4-8365-fb6bb401809b",
   "metadata": {},
   "outputs": [],
   "source": [
    "# Station names\n",
    "stations = ['Hanko Russarö', 'Heinola Asemantaus', 'Helsinki Kaisaniemi', \n",
    "            'Helsinki Malmi airfield', 'Hyvinkää Hyvinkäänkylä', 'Joutsa Savenaho', \n",
    "            'Juuka Niemelä', 'Jyväskylä airport', 'Kaarina Yltöinen', 'Kauhava airfield', \n",
    "            'Kemi Kemi-Tornio airport', 'Kotka Rankki', 'Kouvola Anjala', \n",
    "            'Kouvola Utti airport', 'Kuopio Maaninka', 'Kuusamo airport', \n",
    "            'Lieksa Lampela', 'Mustasaari Valassaaret', 'Parainen Utö', 'Pori airport', \n",
    "            'Rovaniemi Apukka', 'Salo Kärkkä', 'Savonlinna Punkaharju Laukansaari', \n",
    "            'Seinäjoki Pelmaa', 'Siikajoki Ruukki', 'Siilinjärvi Kuopio airport', \n",
    "            'Tohmajärvi Kemie', 'Utsjoki Nuorgam', 'Vaala Pelso', 'Vaasa airport', \n",
    "            'Vesanto Sonkari', 'Vieremä Kaarakkala', 'Vihti Maasoja', 'Ylitornio Meltosjärvi']\n",
    "# Latitude coordinates of Weather stations  \n",
    "lats = [59.77, 61.2, 60.18, 60.25, 60.6, 61.88, 63.23, 62.4,\n",
    "       60.39, 63.12, 65.78, 60.38, 60.7, 60.9, 63.14, 65.99,\n",
    "       63.32, 63.44, 59.78, 61.47, 66.58, 60.37, 61.8, 62.94,\n",
    "       64.68, 63.01, 62.24, 70.08, 64.501, 63.06, 62.92, 63.84,\n",
    "       60.42, 66.53]\n",
    "\n",
    "# Longitude coordinates of Weather stations \n",
    "lons = [22.95, 26.05, 24.94, 25.05, 24.8, 26.09, 29.23, 25.67, \n",
    "       22.55, 23.04, 24.58, 26.96, 26.81, 26.95, 27.31, 29.23, \n",
    "       30.05, 21.07, 21.37, 21.79, 26.01, 23.11, 29.32, 22.49, \n",
    "       25.09, 27.8, 30.35, 27.9, 26.42, 21.75, 26.42, 27.22, \n",
    "       24.4, 24.65]\n",
    "\n",
    "# Cutoff values that correspond to the centroid of Finnish mainland\n",
    "# North - South\n",
    "north_south_cutoff = 64.5 ## Y \n",
    "\n",
    "# East-West\n",
    "east_west_cutoff = 26.3 ## x"
   ]
  },
  {
   "cell_type": "code",
   "execution_count": 12,
   "id": "5aadfc61-9c4b-4654-83ae-6c307a8676d4",
   "metadata": {},
   "outputs": [],
   "source": [
    "# Part 1\n",
    "north_west = []\n",
    "north_east = []\n",
    "south_west = []\n",
    "south_east = []"
   ]
  },
  {
   "cell_type": "code",
   "execution_count": 13,
   "id": "6e7ed55c-884f-4b78-bf28-6b91d3fbe73d",
   "metadata": {},
   "outputs": [
    {
     "name": "stdout",
     "output_type": "stream",
     "text": [
      "[] [] [] []\n"
     ]
    }
   ],
   "source": [
    "print (north_west,north_east,south_west,south_east)"
   ]
  },
  {
   "cell_type": "code",
   "execution_count": 25,
   "id": "8407d841-7abc-4a30-8691-4f760585a6c7",
   "metadata": {},
   "outputs": [
    {
     "name": "stdout",
     "output_type": "stream",
     "text": [
      "In the dataset there are 34 stations.\n"
     ]
    }
   ],
   "source": [
    "## Part 2\n",
    "n = len(stations)\n",
    "print (f'In the dataset there are {n} stations.')"
   ]
  },
  {
   "cell_type": "code",
   "execution_count": 15,
   "id": "18345a58-7ee8-4bfd-9850-7365bc7afc53",
   "metadata": {},
   "outputs": [],
   "source": [
    "# Part 3\n",
    "# X is longitue and Y is Latitude\n",
    "for i in range (len(stations)):\n",
    "    if (lons [i] < east_west_cutoff) and (lats [i] > north_south_cutoff):\n",
    "        north_west.append (stations[i])\n",
    "    elif (lons[i] > east_west_cutoff)and (lats[i] > north_south_cutoff):\n",
    "        north_east.append(stations[i])\n",
    "    elif (lons[i] < east_west_cutoff) and (lats[i] < north_south_cutoff):\n",
    "        south_west.append(stations[i])\n",
    "    elif (lons[i] > east_west_cutoff) and (lats[i] < north_south_cutoff):\n",
    "        south_east.append(stations[i])"
   ]
  },
  {
   "cell_type": "code",
   "execution_count": 26,
   "id": "70a1dd49-ac89-4151-90f0-6405e307fe31",
   "metadata": {},
   "outputs": [
    {
     "name": "stdout",
     "output_type": "stream",
     "text": [
      "The names of the Northeast stations are:\n",
      "['Kuusamo airport', 'Utsjoki Nuorgam', 'Vaala Pelso']\n"
     ]
    }
   ],
   "source": [
    "# Part 4\n",
    "print(f\"The names of the Northeast stations are:\\n{north_east}\")"
   ]
  },
  {
   "cell_type": "code",
   "execution_count": 27,
   "id": "7f630715-2ee7-4211-8a81-aea3aec42051",
   "metadata": {},
   "outputs": [
    {
     "name": "stdout",
     "output_type": "stream",
     "text": [
      "The names of the Northeast stations are:\n",
      "['Kemi Kemi-Tornio airport', 'Rovaniemi Apukka', 'Siikajoki Ruukki', 'Ylitornio Meltosjärvi']\n"
     ]
    }
   ],
   "source": [
    "print(f\"The names of the Northeast stations are:\\n{north_west}\")"
   ]
  },
  {
   "cell_type": "code",
   "execution_count": 28,
   "id": "44bede13-e91f-4e58-af82-a02210d63913",
   "metadata": {},
   "outputs": [
    {
     "name": "stdout",
     "output_type": "stream",
     "text": [
      "The names of the Northeast stations are:\n",
      "['Juuka Niemelä', 'Kotka Rankki', 'Kouvola Anjala', 'Kouvola Utti airport', 'Kuopio Maaninka', 'Lieksa Lampela', 'Savonlinna Punkaharju Laukansaari', 'Siilinjärvi Kuopio airport', 'Tohmajärvi Kemie', 'Vesanto Sonkari', 'Vieremä Kaarakkala']\n"
     ]
    }
   ],
   "source": [
    "print(f\"The names of the Northeast stations are:\\n{south_east}\")"
   ]
  },
  {
   "cell_type": "code",
   "execution_count": 32,
   "id": "75e7e05a-1f73-45c5-aac9-8445e9ddd7ad",
   "metadata": {},
   "outputs": [
    {
     "name": "stdout",
     "output_type": "stream",
     "text": [
      "The names of the Northeast stations are:\n",
      "['Hanko Russarö', 'Heinola Asemantaus', 'Helsinki Kaisaniemi', 'Helsinki Malmi airfield', 'Hyvinkää Hyvinkäänkylä', 'Joutsa Savenaho', 'Jyväskylä airport', 'Kaarina Yltöinen', 'Kauhava airfield', 'Mustasaari Valassaaret', 'Parainen Utö', 'Pori airport', 'Salo Kärkkä', 'Seinäjoki Pelmaa', 'Vaasa airport', 'Vihti Maasoja']\n"
     ]
    }
   ],
   "source": [
    "print(f\"The names of the Northeast stations are:\\n{south_west}\")"
   ]
  },
  {
   "cell_type": "code",
   "execution_count": 54,
   "id": "eabf1105-336a-44a1-b59d-c1384013b34a",
   "metadata": {},
   "outputs": [],
   "source": [
    "# Part 6\n",
    "# Percentage of stations in each region\n",
    "north_west_share = len(north_west)/n*100\n",
    "north_east_share = len(north_east)/n*100\n",
    "south_west_share = len(south_west)/n*100\n",
    "south_east_share = len(south_east)/n*100"
   ]
  },
  {
   "cell_type": "code",
   "execution_count": 57,
   "id": "55b0afd6-0343-4b54-bfeb-9a2c43ce504b",
   "metadata": {},
   "outputs": [
    {
     "name": "stdout",
     "output_type": "stream",
     "text": [
      "Northwest contains 12% of all stations.\n",
      "Northeast contains 9% of all stations.\n",
      "Southwest contains 47% of all stations.\n",
      "Southeast contains 32% of all stations.\n"
     ]
    }
   ],
   "source": [
    "# Print the information (you don't need to modify this)\n",
    "# Note we are using f-strings here\n",
    "# .0f rounds the decimal values to whole numbers\n",
    "print(f\"Northwest contains {north_west_share:.0f}% of all stations.\")\n",
    "print(f\"Northeast contains {north_east_share:.0f}% of all stations.\")\n",
    "print(f\"Southwest contains {south_west_share:.0f}% of all stations.\")\n",
    "print(f\"Southeast contains {south_east_share:.0f}% of all stations.\")"
   ]
  },
  {
   "cell_type": "code",
   "execution_count": null,
   "id": "c9ff7175-8a30-4919-a9a1-6795ab85109d",
   "metadata": {},
   "outputs": [],
   "source": []
  }
 ],
 "metadata": {
  "kernelspec": {
   "display_name": "Python 3 (ipykernel)",
   "language": "python",
   "name": "python3"
  },
  "language_info": {
   "codemirror_mode": {
    "name": "ipython",
    "version": 3
   },
   "file_extension": ".py",
   "mimetype": "text/x-python",
   "name": "python",
   "nbconvert_exporter": "python",
   "pygments_lexer": "ipython3",
   "version": "3.8.12"
  }
 },
 "nbformat": 4,
 "nbformat_minor": 5
}
