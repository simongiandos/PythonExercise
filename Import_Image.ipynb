{
 "cells": [
  {
   "cell_type": "markdown",
   "id": "76b9febd",
   "metadata": {},
   "source": [
    "## Method 1"
   ]
  },
  {
   "cell_type": "markdown",
   "id": "703e3a79",
   "metadata": {},
   "source": [
    "![](Test1.png)\n",
    "set as Markdown"
   ]
  },
  {
   "cell_type": "markdown",
   "id": "341bcd97",
   "metadata": {},
   "source": [
    "## Method 2"
   ]
  },
  {
   "cell_type": "code",
   "execution_count": null,
   "id": "b222773a",
   "metadata": {},
   "outputs": [],
   "source": [
    "from IPython.display import Image\n",
    "Image (\"Test1.png\",width=200,height=700)\n",
    "## Make sure your picture in the dedicated directory"
   ]
  },
  {
   "cell_type": "markdown",
   "id": "81ce5c7c",
   "metadata": {},
   "source": [
    "## Method 3"
   ]
  },
  {
   "cell_type": "code",
   "execution_count": null,
   "id": "1ab6e1de",
   "metadata": {},
   "outputs": [],
   "source": [
    "from PIL import Image\n",
    "img = Image.open ('Test3.jpg')\n",
    "img"
   ]
  },
  {
   "cell_type": "markdown",
   "id": "a69a085a",
   "metadata": {},
   "source": [
    "## Method 4"
   ]
  },
  {
   "cell_type": "code",
   "execution_count": null,
   "id": "f76a293b",
   "metadata": {},
   "outputs": [],
   "source": [
    "## Customize size of the picture\n",
    "<img src=\"Test1.png\" style=\"width:100px;height:100px\"/>"
   ]
  },
  {
   "cell_type": "markdown",
   "id": "2a00c840",
   "metadata": {},
   "source": [
    "## Method 5"
   ]
  },
  {
   "cell_type": "code",
   "execution_count": null,
   "id": "c40339a6",
   "metadata": {},
   "outputs": [],
   "source": [
    "from IPython.display import IFrame\n",
    "IFrame (\"Test3.jpg\",width=600, height=300)"
   ]
  },
  {
   "cell_type": "markdown",
   "id": "0b616c72",
   "metadata": {},
   "source": [
    "## Method 6"
   ]
  },
  {
   "cell_type": "code",
   "execution_count": null,
   "id": "23879477",
   "metadata": {},
   "outputs": [],
   "source": [
    "# importing modules\n",
    "import urllib.request\n",
    "from PIL import Image\n",
    "\n",
    "urllib.request.urlretrieve(\n",
    "'https://media.geeksforgeeks.org/wp-content/uploads/20210318103632/gfg-300x300.png',\n",
    "\"gfg.png\")\n",
    "\n",
    "img = Image.open(\"gfg.png\")\n",
    "img.show()"
   ]
  }
 ],
 "metadata": {
  "kernelspec": {
   "display_name": "Python 3",
   "language": "python",
   "name": "python3"
  },
  "language_info": {
   "codemirror_mode": {
    "name": "ipython",
    "version": 3
   },
   "file_extension": ".py",
   "mimetype": "text/x-python",
   "name": "python",
   "nbconvert_exporter": "python",
   "pygments_lexer": "ipython3",
   "version": "3.8.8"
  }
 },
 "nbformat": 4,
 "nbformat_minor": 5
}
