{
 "cells": [
  {
   "cell_type": "markdown",
   "id": "25085d76",
   "metadata": {},
   "source": [
    "# Basic of for loops"
   ]
  },
  {
   "cell_type": "markdown",
   "id": "56bb586c",
   "metadata": {},
   "source": [
    "Loops allow parts off code to bbe repeated some number of times, such as using a section off code to process each item in a list."
   ]
  },
  {
   "cell_type": "code",
   "execution_count": 1,
   "id": "9773c443",
   "metadata": {},
   "outputs": [],
   "source": [
    "indonesian_cities = ['Medan','Pontianak','Yogyakarta','Sorong']"
   ]
  },
  {
   "cell_type": "code",
   "execution_count": 3,
   "id": "19dc8eeb",
   "metadata": {},
   "outputs": [
    {
     "name": "stdout",
     "output_type": "stream",
     "text": [
      "Medan\n"
     ]
    }
   ],
   "source": [
    "print (indonesian_cities[0])"
   ]
  },
  {
   "cell_type": "code",
   "execution_count": 4,
   "id": "1530b16c",
   "metadata": {},
   "outputs": [
    {
     "name": "stdout",
     "output_type": "stream",
     "text": [
      "Pontianak\n"
     ]
    }
   ],
   "source": [
    "print (indonesian_cities[1])"
   ]
  },
  {
   "cell_type": "code",
   "execution_count": 6,
   "id": "d0b2b8ca",
   "metadata": {},
   "outputs": [
    {
     "name": "stdout",
     "output_type": "stream",
     "text": [
      "Yogyakarta\n"
     ]
    }
   ],
   "source": [
    "print (indonesian_cities[2])"
   ]
  },
  {
   "cell_type": "code",
   "execution_count": 11,
   "id": "a2f0687f",
   "metadata": {},
   "outputs": [
    {
     "name": "stdout",
     "output_type": "stream",
     "text": [
      "Medan\n",
      "Pontianak\n",
      "Yogyakarta\n",
      "Sorong\n"
     ]
    }
   ],
   "source": [
    "## Use 'for' to extract all the city contained in variable\n",
    "for city in indonesian_cities:\n",
    "    print(city)"
   ]
  },
  {
   "cell_type": "markdown",
   "id": "feebe9a8",
   "metadata": {},
   "source": [
    "## For loop format"
   ]
  },
  {
   "cell_type": "markdown",
   "id": "8ecccc01",
   "metadata": {},
   "source": [
    "for loops in Python have the general form below\n",
    "    for variable in collection:\n",
    "        do things with variable"
   ]
  },
  {
   "cell_type": "code",
   "execution_count": 13,
   "id": "8e54fc17",
   "metadata": {},
   "outputs": [],
   "source": [
    "indonesian_cities = ['Medan','Pontianak','Yogyakarta','Sorong']\n",
    "java_cities = ['Samarinda','Palembang']"
   ]
  },
  {
   "cell_type": "code",
   "execution_count": 20,
   "id": "0091d82f",
   "metadata": {},
   "outputs": [
    {
     "name": "stdout",
     "output_type": "stream",
     "text": [
      "Medan adalah Kota indonesia\n",
      "Pontianak adalah Kota indonesia\n",
      "Yogyakarta adalah Kota indonesia\n",
      "Sorong adalah Kota indonesia\n"
     ]
    }
   ],
   "source": [
    "for indonesia in indonesian_cities:\n",
    "    print (indonesia,'adalah Kota indonesia')"
   ]
  },
  {
   "cell_type": "code",
   "execution_count": 25,
   "id": "5174f666",
   "metadata": {},
   "outputs": [
    {
     "name": "stdout",
     "output_type": "stream",
     "text": [
      "After the loop has completed, Indonesia citis is Sorong.\n"
     ]
    }
   ],
   "source": [
    "## Print out the last object inside list\n",
    "print (f'After the loop has completed, Indonesia citis is {indonesia}.')"
   ]
  },
  {
   "cell_type": "markdown",
   "id": "37a13637",
   "metadata": {},
   "source": [
    "## for loops and the range() function\n"
   ]
  },
  {
   "cell_type": "markdown",
   "id": "d35447a8",
   "metadata": {},
   "source": [
    "A loop can be used to iterate over any collection of values in Python. So far we have considered only lists, but we could write a loop that performs a calculation a specified number of times by using the range(). Let's consider an example where we use a for loop with value as the loop variable and range (5) as the colleciton. What happens when you print value at each iteration?\n",
    "This is important for producing list of number"
   ]
  },
  {
   "cell_type": "code",
   "execution_count": 27,
   "id": "5f0f0047",
   "metadata": {},
   "outputs": [
    {
     "name": "stdout",
     "output_type": "stream",
     "text": [
      "0\n",
      "1\n",
      "2\n",
      "3\n",
      "4\n"
     ]
    }
   ],
   "source": [
    "for value in range (5):\n",
    "    print (value)"
   ]
  },
  {
   "cell_type": "code",
   "execution_count": 34,
   "id": "76e98a40",
   "metadata": {},
   "outputs": [
    {
     "name": "stdout",
     "output_type": "stream",
     "text": [
      "2\n",
      "5\n",
      "8\n"
     ]
    }
   ],
   "source": [
    "#help(range)\n",
    "for i in range (2,9,3):\n",
    "    print(i)"
   ]
  },
  {
   "cell_type": "markdown",
   "id": "62e199ee",
   "metadata": {},
   "source": [
    "## Looping over the length of lists using index values"
   ]
  },
  {
   "cell_type": "code",
   "execution_count": 37,
   "id": "611be161",
   "metadata": {},
   "outputs": [
    {
     "name": "stdout",
     "output_type": "stream",
     "text": [
      "Before:i is 0 and number [i] is 5.\n",
      "After:i is 0 and number [i] is 5.\n",
      "\n",
      "Before:i is 1 and number [i] is 6.\n",
      "After:i is 1 and number [i] is 7.\n",
      "\n",
      "Before:i is 2 and number [i] is 7.\n",
      "After:i is 2 and number [i] is 9.\n",
      "\n",
      "Before:i is 3 and number [i] is 8.\n",
      "After:i is 3 and number [i] is 11.\n",
      "\n"
     ]
    }
   ],
   "source": [
    "numbers = [5,6,7,8]\n",
    "for i in range (len(numbers)):\n",
    "    print (f'Before:i is {i} and number [i] is {numbers[i]}.')\n",
    "    numbers [i] = numbers[i]+i\n",
    "    print (f'After:i is {i} and number [i] is {numbers[i]}.')\n",
    "    print ('')"
   ]
  },
  {
   "cell_type": "code",
   "execution_count": 39,
   "id": "7513bd41",
   "metadata": {},
   "outputs": [
    {
     "name": "stdout",
     "output_type": "stream",
     "text": [
      "[5, 7, 9, 11]\n"
     ]
    }
   ],
   "source": [
    "print (numbers)"
   ]
  },
  {
   "cell_type": "code",
   "execution_count": 40,
   "id": "c8047af7",
   "metadata": {},
   "outputs": [],
   "source": [
    "cities = ['Palembang','Sorong','Makassar','Pontianak']\n",
    "island = ['Sumatera', 'Papua', 'Sulawesi', 'Kalimantan']"
   ]
  },
  {
   "cell_type": "code",
   "execution_count": 44,
   "id": "d60795e7",
   "metadata": {},
   "outputs": [
    {
     "name": "stdout",
     "output_type": "stream",
     "text": [
      "Palembang is the city in Sumatera\n",
      "Sorong is the city in Papua\n",
      "Makassar is the city in Sulawesi\n",
      "Pontianak is the city in Kalimantan\n"
     ]
    }
   ],
   "source": [
    "for i in range (len(cities)):\n",
    "    print (f'{cities[i]} is the city in {island[i]}')"
   ]
  },
  {
   "cell_type": "code",
   "execution_count": 45,
   "id": "3da1889e",
   "metadata": {},
   "outputs": [],
   "source": [
    "odd_numbers = [1, 3, 5, 7, 9]\n",
    "even_numbers = [10, 4, 6, 8, 2]"
   ]
  },
  {
   "cell_type": "code",
   "execution_count": 53,
   "id": "8c81aa09",
   "metadata": {},
   "outputs": [
    {
     "name": "stdout",
     "output_type": "stream",
     "text": [
      "11\n",
      "7\n",
      "11\n",
      "15\n",
      "11\n"
     ]
    }
   ],
   "source": [
    "for i in range (len(odd_numbers)):\n",
    "    print (odd_numbers[i]+even_numbers[i])"
   ]
  }
 ],
 "metadata": {
  "kernelspec": {
   "display_name": "Python 3 (ipykernel)",
   "language": "python",
   "name": "python3"
  },
  "language_info": {
   "codemirror_mode": {
    "name": "ipython",
    "version": 3
   },
   "file_extension": ".py",
   "mimetype": "text/x-python",
   "name": "python",
   "nbconvert_exporter": "python",
   "pygments_lexer": "ipython3",
   "version": "3.8.12"
  }
 },
 "nbformat": 4,
 "nbformat_minor": 5
}
